{
 "cells": [
  {
   "cell_type": "markdown",
   "id": "55579905-b7a4-4fca-99cf-9e21d74648b2",
   "metadata": {},
   "source": [
    "week 4 OOPS assignment"
   ]
  },
  {
   "cell_type": "markdown",
   "id": "fe283d5b-ec78-4d5a-8703-b38d7f7d4e40",
   "metadata": {},
   "source": [
    "Q1. Explain Class and Object with respect to Object-Oriented Programming. Give a suitable example."
   ]
  },
  {
   "cell_type": "markdown",
   "id": "543ebd7f-7b0f-4962-a1b3-4d13050aa7e2",
   "metadata": {},
   "source": [
    "Classes are user-defined data types that act as the blueprint for individual objects, attributes and methods.\n",
    "Objects are instances of a class created with specifically defined data. Objects can correspond to real-world objects or an abstract entity\n",
    "\n",
    "class pwskills3:\n",
    "    \n",
    "    def __init__(self, phone_number, email_id, student_id):\n",
    "        \n",
    "        self.phone_number1 = phone_number\n",
    "        self.email_id = email_id\n",
    "        self.student_id = student_id\n",
    "        \n",
    "    def return_student_details(self):\n",
    "        return self.phone_number, self.email_id, self.student_id"
   ]
  },
  {
   "cell_type": "markdown",
   "id": "f06a20b4-1b17-40ff-808c-d2661f4f0bf1",
   "metadata": {},
   "source": [
    "Q2. Name the four pillars of OOPs."
   ]
  },
  {
   "cell_type": "code",
   "execution_count": null,
   "id": "03dfc9a1-a322-45c6-892f-9c2b9dc63b8d",
   "metadata": {},
   "outputs": [],
   "source": [
    "The four pillars of oops are:\n",
    "    - Polymorphism\n",
    "    - Inheritance\n",
    "    - Encapsulation\n",
    "    - Abstraction"
   ]
  },
  {
   "cell_type": "markdown",
   "id": "8bb3deaf-2471-483d-972d-7f99c9d48a3d",
   "metadata": {},
   "source": [
    "Q3. Explain why the __init__() function is used. Give a suitable example."
   ]
  },
  {
   "cell_type": "markdown",
   "id": "957df21b-79c6-4d46-875a-6fa0f3c23bb6",
   "metadata": {},
   "source": [
    "__init__ method is declared within a class and is used to initialize the attributes of an object as soon as the object is formed. \n",
    "While giving the definition for an __init__(self) method, a default parameter, named 'self' is always passed in its argument. \n",
    "This self represents the object of the class itself.\n",
    "\n",
    "class pwskills3:\n",
    "    \n",
    "    def __init__(self, phone_number, email_id, student_id):\n",
    "        \n",
    "        self.phone_number1 = phone_number\n",
    "        self.email_id = email_id\n",
    "        self.student_id = student_id\n",
    "        \n",
    "    def return_student_details(self):\n",
    "        return self.phone_number, self.email_id, self.student_id"
   ]
  },
  {
   "cell_type": "markdown",
   "id": "e50b3a3b-f17b-47a2-8464-8c5d094821f1",
   "metadata": {},
   "source": [
    "Q4. Why self is used in OOPs?"
   ]
  },
  {
   "cell_type": "markdown",
   "id": "c46cfdbf-46f9-432b-8b71-5a3e227a2a47",
   "metadata": {},
   "source": [
    "Self represents the instance of the class. By using the “self” we can access the attributes and methods of the class in Python. \n",
    "It binds the attributes with the given arguments."
   ]
  },
  {
   "cell_type": "markdown",
   "id": "f2221ded-d18a-41ab-be49-2dda50ae80db",
   "metadata": {},
   "source": [
    "Q5. What is inheritance? Give an example for each type of inheritance."
   ]
  },
  {
   "cell_type": "markdown",
   "id": "d183a92e-ce0a-4c54-a31f-733f73930541",
   "metadata": {},
   "source": [
    "Inheritance is a feature or a process in which, new classes are created from the existing classes. \n",
    "The new class created is called “derived class” or “child class” and the existing class is known as the “base class” or “parent class\n",
    "\n",
    "# multilevel inheritance\n",
    "\n",
    "class class1:\n",
    "    def _class1(self):\n",
    "        print(\"this is class1\")\n",
    "        \n",
    "class class2(class1):\n",
    "    def _class2(self):\n",
    "        print(\"this is class2\")\n",
    "        \n",
    "class class3(class2):\n",
    "    def _class3(self):\n",
    "        print(\"this is class3\")\n",
    "        \n",
    "obj_class3 = class3()  \n",
    "\n",
    "obj_class3. _class1()\n",
    "output = this is class1\n",
    "\n",
    "obj_class3._class2()\n",
    "output = this is class2\n",
    "\n",
    "\n",
    "# multiple inheritance\n",
    "\n",
    "class class1():\n",
    "    def t_class1(self):\n",
    "        print(\"this is class1\")\n",
    "class class2():\n",
    "    def t_class2(self):\n",
    "        print(\"this is class2\")\n",
    "class class3(class1, class2):\n",
    "    pass\n",
    "obj_class3 = class3()\n",
    "obj_class3.t_class1()\n",
    "output = this is class1\n",
    "\n",
    "obj_class3.t_class2()\n",
    "output = this is class2        "
   ]
  },
  {
   "cell_type": "code",
   "execution_count": null,
   "id": "9186f6dd-dc4f-4233-b1cc-f7482f89329b",
   "metadata": {},
   "outputs": [],
   "source": []
  }
 ],
 "metadata": {
  "kernelspec": {
   "display_name": "Python 3 (ipykernel)",
   "language": "python",
   "name": "python3"
  },
  "language_info": {
   "codemirror_mode": {
    "name": "ipython",
    "version": 3
   },
   "file_extension": ".py",
   "mimetype": "text/x-python",
   "name": "python",
   "nbconvert_exporter": "python",
   "pygments_lexer": "ipython3",
   "version": "3.10.8"
  }
 },
 "nbformat": 4,
 "nbformat_minor": 5
}
